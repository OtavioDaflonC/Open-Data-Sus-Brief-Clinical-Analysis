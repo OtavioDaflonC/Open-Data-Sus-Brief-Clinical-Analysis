{
  "nbformat": 4,
  "nbformat_minor": 0,
  "metadata": {
    "colab": {
      "name": "Data_sus_multi.ipynb",
      "provenance": [],
      "collapsed_sections": []
    },
    "kernelspec": {
      "name": "python3",
      "display_name": "Python 3"
    }
  },
  "cells": [
    {
      "cell_type": "markdown",
      "metadata": {
        "id": "37puETfgRzzg"
      },
      "source": [
        "# Limpeza \n"
      ]
    },
    {
      "cell_type": "markdown",
      "metadata": {
        "id": "o_0eNwOFSgH4"
      },
      "source": [
        "Foi feita uma limpeza prévia nos dados pelo excel, tendo em vista o prazo para entrega do projeto, se mostrou a forma mais rápida de obter o Input na estrutura correta."
      ]
    },
    {
      "cell_type": "markdown",
      "metadata": {
        "id": "EoRP98MpR-qj"
      },
      "source": [
        "## Importar Bibliotecas"
      ]
    },
    {
      "cell_type": "code",
      "metadata": {
        "id": "N-qiINBQSK2g"
      },
      "source": [
        "import pandas as pd\n",
        "import numpy as np\n",
        "import matplotlib.pyplot as plt\n",
        "\n"
      ],
      "execution_count": null,
      "outputs": []
    },
    {
      "cell_type": "markdown",
      "metadata": {
        "id": "RopL7tUZSQkT"
      },
      "source": [
        "## Importar base de dados"
      ]
    },
    {
      "cell_type": "code",
      "metadata": {
        "id": "WwEPNDWySTKm"
      },
      "source": [
        "\n",
        "dataset = pd.read_csv('Data_Sus.csv')\n",
        "\n",
        "\n",
        "\n",
        "x=dataset.iloc[ : , :-1].values\n",
        "#x são tipicamente as features e y as variáveis dependentes.\n",
        "\n",
        "#Da mesma forma então:\n",
        "y=dataset.iloc[ : ,-1].values\n",
        "\n",
        "\n"
      ],
      "execution_count": null,
      "outputs": []
    },
    {
      "cell_type": "code",
      "metadata": {
        "colab": {
          "base_uri": "https://localhost:8080/"
        },
        "id": "TIl14NfUNmwC",
        "outputId": "03689f36-e352-436c-e47a-11e1a9737838"
      },
      "source": [
        "print(x)\n",
        "#Confirmando"
      ],
      "execution_count": null,
      "outputs": [
        {
          "output_type": "stream",
          "name": "stdout",
          "text": [
            "[[1.30200e+03 5.87660e+05 1.41205e+05 5.59800e+02 3.61200e+03 3.20000e+01]\n",
            " [4.48000e+02 2.42512e+05 5.31150e+04 6.59880e+02 1.39900e+03 3.00000e+00]\n",
            " [3.61000e+02 1.78459e+05 3.77040e+04 5.98790e+02 9.11000e+02 4.00000e+00]\n",
            " ...\n",
            " [1.30300e+03 8.03741e+05 1.83504e+05 7.57670e+02 3.16500e+03 6.20000e+01]\n",
            " [8.30000e+02 3.06214e+05 7.11800e+04 4.54690e+02 2.50000e+03 1.20000e+01]\n",
            " [2.99000e+02 1.42687e+05 3.85370e+04 6.06100e+02 6.56000e+02 1.00000e+01]]\n"
          ]
        }
      ]
    },
    {
      "cell_type": "code",
      "metadata": {
        "colab": {
          "base_uri": "https://localhost:8080/"
        },
        "id": "EV7NvvY3Nqz-",
        "outputId": "918df9bc-7bcc-4e9b-e52b-8884b19fb0e4"
      },
      "source": [
        "print(y)\n",
        "#Confirmando"
      ],
      "execution_count": null,
      "outputs": [
        {
          "output_type": "stream",
          "name": "stdout",
          "text": [
            "[728865 295627 216163 ... 987246 377394 181225]\n"
          ]
        }
      ]
    },
    {
      "cell_type": "markdown",
      "metadata": {
        "id": "nhfKXNxlSabC"
      },
      "source": [
        "## Dados Faltando"
      ]
    },
    {
      "cell_type": "code",
      "metadata": {
        "id": "HYQUDaEUNk1A"
      },
      "source": [
        "\n",
        "from sklearn.impute import SimpleImputer \n",
        "imputer = SimpleImputer(missing_values=np.nan, strategy='mean') \n",
        "\n",
        "\n",
        "imputer.fit(x[:,1:7]) \n",
        "\n",
        "\n",
        "#Agora precisamos dar o intervalo em que queremos aplicar o critério de sunbstituição, no caso, a média:\n",
        "x[:, 1:7] = imputer.transform(x[:, 1:7]) \n",
        "\n"
      ],
      "execution_count": null,
      "outputs": []
    },
    {
      "cell_type": "code",
      "metadata": {
        "colab": {
          "base_uri": "https://localhost:8080/"
        },
        "id": "jxrE3sXgaTC2",
        "outputId": "a31259a5-d94c-45da-e84f-9a2fac6046e8"
      },
      "source": [
        "print(x)\n",
        "#nota-se que agora onde era nulo(nan), se substituiu pela média dos componentes da coluna:"
      ],
      "execution_count": null,
      "outputs": [
        {
          "output_type": "stream",
          "name": "stdout",
          "text": [
            "[[1.30200e+03 5.87660e+05 1.41205e+05 5.59800e+02 3.61200e+03 3.20000e+01]\n",
            " [4.48000e+02 2.42512e+05 5.31150e+04 6.59880e+02 1.39900e+03 3.00000e+00]\n",
            " [3.61000e+02 1.78459e+05 3.77040e+04 5.98790e+02 9.11000e+02 4.00000e+00]\n",
            " ...\n",
            " [1.30300e+03 8.03741e+05 1.83504e+05 7.57670e+02 3.16500e+03 6.20000e+01]\n",
            " [8.30000e+02 3.06214e+05 7.11800e+04 4.54690e+02 2.50000e+03 1.20000e+01]\n",
            " [2.99000e+02 1.42687e+05 3.85370e+04 6.06100e+02 6.56000e+02 1.00000e+01]]\n"
          ]
        }
      ]
    },
    {
      "cell_type": "code",
      "metadata": {
        "colab": {
          "base_uri": "https://localhost:8080/"
        },
        "id": "2J9B_-JQfnd9",
        "outputId": "af58298e-0acb-4e29-93e3-f6612d1813fe"
      },
      "source": [
        "print(y)"
      ],
      "execution_count": null,
      "outputs": [
        {
          "output_type": "stream",
          "name": "stdout",
          "text": [
            "[728865 295627 216163 ... 987246 377394 181225]\n"
          ]
        }
      ]
    },
    {
      "cell_type": "code",
      "metadata": {
        "id": "TtzY8xqhqHBR"
      },
      "source": [
        ""
      ],
      "execution_count": null,
      "outputs": []
    },
    {
      "cell_type": "markdown",
      "metadata": {
        "id": "CriG6VzVSjcK"
      },
      "source": [
        "## Dados categoricos"
      ]
    },
    {
      "cell_type": "markdown",
      "metadata": {
        "id": "AhSpdQWeSsFh"
      },
      "source": [
        "### Encoding the Independent Variable (Features)"
      ]
    },
    {
      "cell_type": "code",
      "metadata": {
        "id": "HyJRO5NN2TOM"
      },
      "source": [
        "from sklearn.compose import ColumnTransformer \n",
        "\n",
        "from sklearn.preprocessing import OneHotEncoder \n",
        "#usamos o nome 'passthrough'que diz que as iformações não transformadas não serão tocadas).\n",
        "ct=ColumnTransformer(transformers=[('encoder',OneHotEncoder(),[0])],remainder='passthrough') #objeto\n",
        "\n",
        "\n",
        "#A seguir precisamos que as matrizes estejam em formato de array para mais tarde. Então faremos  \n",
        "# uso do numpy:\n",
        "\n",
        "x= np.array(ct.fit_transform(x))\n",
        "#a função fit_transform() tanto transforma, quanto encaixa os dados transformados no lugar.\n",
        "\n"
      ],
      "execution_count": null,
      "outputs": []
    },
    {
      "cell_type": "code",
      "metadata": {
        "colab": {
          "base_uri": "https://localhost:8080/"
        },
        "id": "32b4VbB-bpX2",
        "outputId": "ddb2f154-cca8-41ec-c9bb-90daa0fd4746"
      },
      "source": [
        "print(x)\n",
        "#Conferindo"
      ],
      "execution_count": null,
      "outputs": [
        {
          "output_type": "stream",
          "name": "stdout",
          "text": [
            "  (0, 0)\t1.0\n",
            "  (0, 3093)\t1302.0\n",
            "  (0, 3094)\t587660.41\n",
            "  (0, 3095)\t141205.44\n",
            "  (0, 3096)\t559.8\n",
            "  (0, 3097)\t3612.0\n",
            "  (0, 3098)\t2.8\n",
            "  (0, 3099)\t32.0\n",
            "  (0, 3100)\t2.46\n",
            "  (1, 24)\t1.0\n",
            "  (1, 3093)\t448.0\n",
            "  (1, 3094)\t242512.04\n",
            "  (1, 3095)\t53115.22\n",
            "  (1, 3096)\t659.88\n",
            "  (1, 3097)\t1399.0\n",
            "  (1, 3098)\t3.1\n",
            "  (1, 3099)\t3.0\n",
            "  (1, 3100)\t0.67\n",
            "  (2, 25)\t1.0\n",
            "  (2, 3093)\t361.0\n",
            "  (2, 3094)\t178459.45\n",
            "  (2, 3095)\t37704.2\n",
            "  (2, 3096)\t598.79\n",
            "  (2, 3097)\t911.0\n",
            "  (2, 3098)\t2.5\n",
            "  :\t:\n",
            "  (3090, 3094)\t803741.89\n",
            "  (3090, 3095)\t183504.3\n",
            "  (3090, 3096)\t757.67\n",
            "  (3090, 3097)\t3165.0\n",
            "  (3090, 3098)\t2.4\n",
            "  (3090, 3099)\t62.0\n",
            "  (3090, 3100)\t4.76\n",
            "  (3091, 3091)\t1.0\n",
            "  (3091, 3093)\t830.0\n",
            "  (3091, 3094)\t306214.07\n",
            "  (3091, 3095)\t71180.31\n",
            "  (3091, 3096)\t454.69\n",
            "  (3091, 3097)\t2500.0\n",
            "  (3091, 3098)\t3.0\n",
            "  (3091, 3099)\t12.0\n",
            "  (3091, 3100)\t1.45\n",
            "  (3092, 3092)\t1.0\n",
            "  (3092, 3093)\t299.0\n",
            "  (3092, 3094)\t142687.77\n",
            "  (3092, 3095)\t38537.28\n",
            "  (3092, 3096)\t606.1\n",
            "  (3092, 3097)\t656.0\n",
            "  (3092, 3098)\t2.2\n",
            "  (3092, 3099)\t10.0\n",
            "  (3092, 3100)\t3.34\n"
          ]
        }
      ]
    },
    {
      "cell_type": "code",
      "metadata": {
        "colab": {
          "base_uri": "https://localhost:8080/"
        },
        "id": "4cLohBW5Z6M7",
        "outputId": "3074687d-ba81-4f6a-9cf7-06625381877f"
      },
      "source": [
        "print(y)"
      ],
      "execution_count": null,
      "outputs": [
        {
          "output_type": "stream",
          "name": "stdout",
          "text": [
            "[728865.85 295627.26 216163.65 ... 987246.19 377394.38 181225.05]\n"
          ]
        }
      ]
    },
    {
      "cell_type": "markdown",
      "metadata": {
        "id": "DXh8oVSITIc6"
      },
      "source": [
        "### Encoding the Dependent Variable"
      ]
    },
    {
      "cell_type": "code",
      "metadata": {
        "id": "l6FZaVyr94cb"
      },
      "source": [
        "\n",
        "from sklearn.preprocessing import LabelEncoder \n",
        "le= LabelEncoder() \n",
        "y=le.fit_transform(y)\n",
        "\n",
        "\n",
        "#OBS: como y não foi transformado em vetor, não é necessária a converção em array.\n",
        "\n"
      ],
      "execution_count": null,
      "outputs": []
    },
    {
      "cell_type": "code",
      "metadata": {
        "colab": {
          "base_uri": "https://localhost:8080/"
        },
        "id": "YWCIdWBdh6k0",
        "outputId": "489eeba2-0aad-4b7f-91ee-e7a3b1714af8"
      },
      "source": [
        "print(y)"
      ],
      "execution_count": null,
      "outputs": [
        {
          "output_type": "stream",
          "name": "stdout",
          "text": [
            "[1901 1276 1043 ... 2097 1459  914]\n"
          ]
        }
      ]
    },
    {
      "cell_type": "markdown",
      "metadata": {
        "id": "qb_vcgm3qZKW"
      },
      "source": [
        "## Splitting the dataset into the Training set and Test set"
      ]
    },
    {
      "cell_type": "markdown",
      "metadata": {
        "id": "GlkU0pZSj_EN"
      },
      "source": [
        "Se a feature scaling fosse válida para análise de multivariável, o split de teste/treino seria antes da padronização. O que não é o caso. "
      ]
    },
    {
      "cell_type": "code",
      "metadata": {
        "id": "-WfrgoAjlr6i"
      },
      "source": [
        "\n",
        "from sklearn.model_selection import train_test_split \n",
        "x_train,x_test,y_train,y_test= train_test_split(x,y,test_size=0.2,random_state=1)\n",
        "\n"
      ],
      "execution_count": null,
      "outputs": []
    },
    {
      "cell_type": "code",
      "metadata": {
        "colab": {
          "base_uri": "https://localhost:8080/"
        },
        "id": "08SMS8kD8sru",
        "outputId": "dab6358e-d31e-43f4-dc54-a3b0b6a84c38"
      },
      "source": [
        "print(x_train)"
      ],
      "execution_count": null,
      "outputs": [
        {
          "output_type": "stream",
          "name": "stdout",
          "text": [
            "[[1.03320000e+04 2.84092880e+07 7.50644800e+06 3.47617000e+03\n",
            "  5.46460000e+04 8.90000000e+02]\n",
            " [1.66800000e+03 5.08816600e+06 9.19672000e+05 3.60182000e+03\n",
            "  8.17100000e+03 1.83000000e+02]\n",
            " [2.17400000e+03 1.64719100e+06 2.95713000e+05 8.93700000e+02\n",
            "  1.38100000e+04 2.51000000e+02]\n",
            " ...\n",
            " [2.96000000e+02 1.55905000e+05 4.58820000e+04 6.81720000e+02\n",
            "  8.19000000e+02 1.50000000e+01]\n",
            " [1.74000000e+02 7.54400000e+04 1.48160000e+04 5.18710000e+02\n",
            "  5.40000000e+02 2.92733821e+02]\n",
            " [2.89700000e+03 1.32841000e+06 5.09035000e+05 6.34260000e+02\n",
            "  1.16180000e+04 2.36000000e+02]]\n"
          ]
        }
      ]
    },
    {
      "cell_type": "code",
      "metadata": {
        "colab": {
          "base_uri": "https://localhost:8080/"
        },
        "id": "Wn48CJR88sb0",
        "outputId": "4497477a-3810-4d31-b43a-3bbc6d1271c4"
      },
      "source": [
        "print(y_train)\n",
        "\n"
      ],
      "execution_count": null,
      "outputs": [
        {
          "output_type": "stream",
          "name": "stdout",
          "text": [
            "[35915737  6007839  1942905 ...   201788    90256  1837446]\n"
          ]
        }
      ]
    },
    {
      "cell_type": "code",
      "metadata": {
        "colab": {
          "base_uri": "https://localhost:8080/"
        },
        "id": "OkKL508S8sFC",
        "outputId": "387e6499-4eb8-4ebf-b9f1-5b1cef1ddb81"
      },
      "source": [
        "print(x_test)"
      ],
      "execution_count": null,
      "outputs": [
        {
          "output_type": "stream",
          "name": "stdout",
          "text": [
            "[[1.07700e+03 5.21344e+05 1.32072e+05 6.06700e+02 2.70900e+03 4.00000e+01]\n",
            " [1.39800e+03 3.64730e+05 9.14410e+04 3.26300e+02 3.42300e+03 6.80000e+01]\n",
            " [1.45000e+03 5.66283e+05 1.87652e+05 5.26820e+02 3.72400e+03 2.00000e+00]\n",
            " ...\n",
            " [5.40000e+02 2.06951e+05 5.19400e+04 4.79430e+02 1.31300e+03 1.80000e+01]\n",
            " [1.40000e+01 8.28200e+03 1.39200e+03 6.91030e+02 5.00000e+01 2.00000e+00]\n",
            " [2.32000e+02 9.85810e+04 1.81520e+04 5.03160e+02 8.11000e+02 1.20000e+01]]\n"
          ]
        }
      ]
    },
    {
      "cell_type": "code",
      "metadata": {
        "colab": {
          "base_uri": "https://localhost:8080/"
        },
        "id": "yTGleioy8o-D",
        "outputId": "3b6bfec8-eff4-4619-9fc7-92f58595e753"
      },
      "source": [
        "print(y_test)\n",
        "\n"
      ],
      "execution_count": null,
      "outputs": [
        {
          "output_type": "stream",
          "name": "stdout",
          "text": [
            "[    653416     456172     763890   20636891      29536     466466\n",
            "      22791   87838291    1006227     312152     458077     277787\n",
            "      84541     484919     272539    1647704     149411    6298912\n",
            "     338739     150751    4205252     198857      27128     160485\n",
            "     639182     277541      63706  152609294     327214    3688725\n",
            "     370507    1305098    2591342      24169      74603     404084\n",
            "      47707      40260     100394     321194   21142883      89989\n",
            "     146815     274509     357010     261626    5286465   43786661\n",
            "     111911     462638    7128889     984977    3663247  215533009\n",
            "     652890     139669    1448806    1060087    7483898     309128\n",
            "      33554     114856     157930     670022     171101      24422\n",
            "    5175434    2294975     210980     148095     387886     223200\n",
            "   12634702     174681     743546     163578      50046     184946\n",
            "      69080      82556    1022884  160146616     445490    2175636\n",
            "      31291      45740     107344     343158   18853155     140810\n",
            "     481598  682912906     292829    1326772     299356      51040\n",
            "      10756      74983     190274     476659     165861     331796\n",
            "     122953      64244     160376     171583    1780993     104670\n",
            "  113768692     604765     868518    3800643     112016     215554\n",
            "    1736260    3125573     968413     113644    1439616      78789\n",
            "      95124       5926      77095      64409    1887864     538092\n",
            "     924731      22142   63899965     312702       3054    4967855\n",
            "   48285642     856133     412675     349339     681067      57478\n",
            "       6336     393311     127041      95046    4402161     258242\n",
            "    5411596     187666     114743     135233     166637    1644402\n",
            "     429220     324932     446612     284644     859283   11548445\n",
            "    2591730     811367     396700     162843     150584     624009\n",
            "    8881656     226594   12489823    1322313    1086718     205226\n",
            "     237609     364056     466693   20231263       8894    9420158\n",
            "    8055094     273159     304363     499122      59520      42558\n",
            "     232286     785283       5609      35627     293048       1794\n",
            "     502853    1352274     340524    1017172     715073      77158\n",
            "    1146387    1719253      61024    3192764    8427752      53735\n",
            "     607490      68765      17608      47914      68194      44566\n",
            "   28502421      48263    2592457      55184    7019929      76109\n",
            "      13305      83893     247259    1803044     232649    8407925\n",
            "     348709      91655     155961     950906     216440     194757\n",
            "    7321013     659297      80349     329651      97161    1676952\n",
            "     317563  115096654     259618    2598616    5464242      35915\n",
            "   41864828    1105719     181627   19518297    1023683      49455\n",
            "     106707     270244     833253    3803100     102189     903597\n",
            "     142360      13791      50425    7988412     714688     108958\n",
            "     190115     168327    9628334      78288     427597  506201078\n",
            "    6908452    1218140    1143413    9874657    1677140    1089104\n",
            "    8656552   24210516     164477     435411   10033949     644671\n",
            "     203931     156207     294089   30508903     314732      48047\n",
            "    6309352     591935     290001   39945748     342445     165328\n",
            "      16963      18488   23457560      59964      47134     212706\n",
            "   18532688     509288   10788217    1773025      78974   19567072\n",
            "     307514       2410     131637     105937      29706      47443\n",
            "      91949    8107747     193389     655530      89110      31637\n",
            "    1039284     633686     257479    1406702   41906598   72436655\n",
            "     445344    2948011     756568     635470     318496      42867\n",
            "    1322451      84467    2091781      55625    1700032      31404\n",
            "      21163     857084      23556   11650687    2473473      35472\n",
            "     286068     632213   18764295    2024503     490550    5644651\n",
            "    4004838     135183    1519745   59632685     805766     195955\n",
            "     273679    2201348   28391728     758278      72592     282108\n",
            "   14048403     319977      98236     372028    2216340      68644\n",
            "     215381     730861     144699     231962   12083925     309167\n",
            "    5471832      59959     543022    5734962     213205     242990\n",
            "     280854     620338    2290337     114934   20256543    1625378\n",
            "     499119  104498001     178687    3249868      69915      45561\n",
            "      42772    8467081    2487482     155348    1190776    1758925\n",
            "      20817    9563896    1014909     572632     332357     363465\n",
            "     561314   81890383    4115260     491861     887044   19145603\n",
            "     426983    1429429    1272776      84958     694548     797746\n",
            "    1622105     100532     199346      98062     537375    2910025\n",
            "     859456     187351      76954      55996       5701   21044029\n",
            "   23365505     371188    2771994     157184     266222     238653\n",
            "     648530    4029530      74392      87660     182274     113600\n",
            "     181225      74363     165946    1265953   16038394     792411\n",
            "     119177  134263755   13504732   44038263      30300     399574\n",
            "    5432443      97806     129120      29762    3693794     192696\n",
            "     241277   13651641     371645   19757032     974984     149283\n",
            "   16173445     145028     289497      72044    9997534    8097586\n",
            "     213401     170153     514026     216394    3190432      52359\n",
            "     137431   41399448     902390     972072   33190466      41365\n",
            "      74756     135814     389097      73947    1883190    1350642\n",
            "     648919     421398     112388     322361   60826695     257951\n",
            "     551113     890203     435866     319510      19347     121889\n",
            "    3570780     593759   62293459   12451675     529044    3082712\n",
            "      97939    6348068   12119527      53754     201929     671386\n",
            "     324762    3153770     479159     163993    1418653    1004502\n",
            "     209457     266990    6326763    5064303   26138953     211098\n",
            "       9820    1335961     298327     202847     217072    2331359\n",
            "     152279     170019     843697     539136     812578   34750789\n",
            "     177327     475044    2856293      47698      63935   50321613\n",
            "     106679     410132     346082     642250     497530     188433\n",
            "     374311     593693    4390941   11138186   12243339   17617781\n",
            "     196840    2111822     424553   14338837      63909   71252006\n",
            "      41951     547766      45531     841253    1826994    9391591\n",
            "    8898155      27739    1956874    1021324     824501     142584\n",
            "   20672973      68392     247165     179146     529398   22043128\n",
            "   40089142     512460    4302713   10415351    1493115   44832598\n",
            "     166859  117397391   63114898   21850429     267107    2220286\n",
            "     337273     210639   51714712     113871      82332      58248\n",
            "   12874919      97712     287436     160263     110272     322499\n",
            "     170193     330029     272806       8883     116049     569608\n",
            "    1049178     150971     758095      18684     171798     966457\n",
            "      64164     266987     213841     320981    2953077      25537\n",
            "     728092 1598794917      63215    5322208     138989     182088\n",
            "     270110     475236  129855610     448748     258891       9674\n",
            "     116734]\n"
          ]
        }
      ]
    },
    {
      "cell_type": "markdown",
      "metadata": {
        "id": "soK7CuYZhjQW"
      },
      "source": [
        "## Treinando Multipla regressão linear na base de treinamento"
      ]
    },
    {
      "cell_type": "code",
      "metadata": {
        "colab": {
          "base_uri": "https://localhost:8080/"
        },
        "id": "ClFtJXLrhqLJ",
        "outputId": "9fc0d7bd-48ce-4aa3-83bf-15596eb5bf3a"
      },
      "source": [
        "from sklearn.linear_model import LinearRegression \n",
        "regressor= LinearRegression() \n",
        "\n",
        "regressor.fit(x_train,y_train)\n",
        "\n",
        "#A classe LinearRegression já resolve o famoso problema da Dummy Variable."
      ],
      "execution_count": null,
      "outputs": [
        {
          "output_type": "execute_result",
          "data": {
            "text/plain": [
              "LinearRegression(copy_X=True, fit_intercept=True, n_jobs=None, normalize=False)"
            ]
          },
          "metadata": {},
          "execution_count": 138
        }
      ]
    },
    {
      "cell_type": "markdown",
      "metadata": {
        "id": "X6AGwKRsLEUK"
      },
      "source": [
        "## Prevendo resultado de teste"
      ]
    },
    {
      "cell_type": "code",
      "metadata": {
        "colab": {
          "base_uri": "https://localhost:8080/"
        },
        "id": "G0JWljjbLIYW",
        "outputId": "992116a5-e5ed-4095-834d-d5f04b9a12d4"
      },
      "source": [
        "prev_y= regressor.predict(x_test)\n",
        "np.set_printoptions(precision=2)\n",
        "\n",
        "print(np.concatenate((prev_y.reshape(len(prev_y),1), y_test.reshape(len(y_test),1)),1))\n"
      ],
      "execution_count": null,
      "outputs": [
        {
          "output_type": "stream",
          "name": "stdout",
          "text": [
            "[[651920.7  653416.  ]\n",
            " [456238.01 456172.  ]\n",
            " [755628.78 763890.  ]\n",
            " ...\n",
            " [254942.41 258891.  ]\n",
            " [  3099.06   9674.  ]\n",
            " [111043.68 116734.  ]]\n"
          ]
        }
      ]
    },
    {
      "cell_type": "code",
      "metadata": {
        "colab": {
          "base_uri": "https://localhost:8080/"
        },
        "id": "ZfBz3XBtLkgH",
        "outputId": "d7c0bdc0-eba1-422a-a27f-0de162af6343"
      },
      "source": [
        "print(regressor.coef_)\n",
        "print(regressor.intercept_)\n",
        "\n",
        "#printamos assim todaos os coeficientes, que é o nosso objetivo aqui."
      ],
      "execution_count": null,
      "outputs": [
        {
          "output_type": "stream",
          "name": "stdout",
          "text": [
            "[  6.7    1.     1.01   0.05  -0.32 -17.76]\n",
            "-6638.096226314083\n",
            "<bound method BaseEstimator.set_params of LinearRegression(copy_X=True, fit_intercept=True, n_jobs=None, normalize=False)>\n"
          ]
        }
      ]
    },
    {
      "cell_type": "code",
      "metadata": {
        "colab": {
          "base_uri": "https://localhost:8080/"
        },
        "id": "glQzb9aQL2ch",
        "outputId": "7ef0fecc-5781-44a2-edb2-f70657e2d8d3"
      },
      "source": [
        "prev_y= regressor.predict(x_test)\n",
        "np.set_printoptions(precision=2)\n",
        "\n",
        "print(np.concatenate((prev_y.reshape(len(prev_y),1), y_test.reshape(len(y_test),1)),1))\n",
        "#Serve para comparação visual da precisão de previsão."
      ],
      "execution_count": null,
      "outputs": [
        {
          "output_type": "stream",
          "name": "stdout",
          "text": [
            "[[651920.7  653416.  ]\n",
            " [456238.01 456172.  ]\n",
            " [755628.78 763890.  ]\n",
            " ...\n",
            " [254942.41 258891.  ]\n",
            " [  3099.06   9674.  ]\n",
            " [111043.68 116734.  ]]\n"
          ]
        }
      ]
    }
  ]
}